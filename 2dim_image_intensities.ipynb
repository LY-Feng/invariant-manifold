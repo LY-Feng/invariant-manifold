{
 "cells": [
  {
   "cell_type": "code",
   "execution_count": 1,
   "id": "9b233898",
   "metadata": {},
   "outputs": [],
   "source": [
    "import numpy as np\n",
    "import matplotlib.pyplot as plt\n",
    "from matplotlib  import cm\n",
    "import seaborn as sns \n",
    "import h5py\n",
    "import pandas as pd\n",
    "from sklearn.preprocessing import PolynomialFeatures\n",
    "from sklearn import linear_model"
   ]
  },
  {
   "cell_type": "code",
   "execution_count": 2,
   "id": "9e086d73",
   "metadata": {},
   "outputs": [],
   "source": [
    "epsi = 0.01\n",
    "sig = 0.2\n",
    "sigma1 = 1\n",
    "sigma05 = 0.5\n",
    "sigma15 = 1.5"
   ]
  },
  {
   "cell_type": "code",
   "execution_count": 3,
   "id": "28aa33ef",
   "metadata": {},
   "outputs": [],
   "source": [
    "#1\n",
    "#read pre_decoder data\n",
    "with h5py.File('./data/Ex1_pre_40_%d.h5'% (10*sigma1), 'r') as hf:\n",
    "    pre_decoder = hf['pre_40'][:]\n",
    "hf.close()\n",
    "pre_1 = pre_decoder[:,-1,:].reshape(-1,2)#40"
   ]
  },
  {
   "cell_type": "code",
   "execution_count": 4,
   "id": "578e0f65",
   "metadata": {},
   "outputs": [],
   "source": [
    "#0.5\n",
    "#read pre_decoder data\n",
    "with h5py.File('./data/Ex1_pre_40_%d.h5'% (10*sigma05), 'r') as hf:\n",
    "    pre_decoder = hf['pre_40'][:]\n",
    "hf.close()\n",
    "pre_05 = pre_decoder[:,-1,:].reshape(-1,2)#40"
   ]
  },
  {
   "cell_type": "code",
   "execution_count": 5,
   "id": "95619e82",
   "metadata": {},
   "outputs": [],
   "source": [
    "#1.5\n",
    "#read pre_decoder data\n",
    "with h5py.File('./data/Ex1_pre_40_%d.h5'% (10*sigma15), 'r') as hf:\n",
    "    pre_decoder = hf['pre_40'][:]\n",
    "hf.close()\n",
    "pre_15 = pre_decoder[:,-1,:].reshape(-1,2)#40"
   ]
  },
  {
   "cell_type": "code",
   "execution_count": 6,
   "id": "4108860f",
   "metadata": {},
   "outputs": [],
   "source": [
    "dpre_1 = pd.DataFrame(pre_1,columns=['x', 'y'])\n",
    "dpre_11 = dpre_1[ dpre_1['x'] >= -4]\n",
    "dpre_12 = dpre_11[ dpre_11['x'] < 4].sort_values(by='x',ascending=False)\n",
    "\n",
    "dpre_05 = pd.DataFrame(pre_05,columns=['x',  'y'])\n",
    "dpre_051 = dpre_05[ dpre_05['x'] >= -4].sort_values(by='x',ascending=True)\n",
    "dpre_052 = dpre_051[ dpre_051['x'] < 4].sort_values(by='x',ascending=True)\n",
    "\n",
    "dpre_15 = pd.DataFrame(pre_15,columns=['x',  'y'])\n",
    "dpre_151 = dpre_15[ dpre_15['x'] >= -4].sort_values(by='x',ascending=True)\n",
    "dpre_152 = dpre_151[ dpre_151['x'] < 4].sort_values(by='x',ascending=True)"
   ]
  },
  {
   "cell_type": "code",
   "execution_count": 7,
   "id": "fa0d2995",
   "metadata": {},
   "outputs": [
    {
     "name": "stdout",
     "output_type": "stream",
     "text": [
      "coefficients [ 0.         -0.02081308  0.26430506]\n",
      "intercept -0.0342263\n"
     ]
    }
   ],
   "source": [
    "x = dpre_12.values[:,0]\n",
    "y = dpre_12.values[:,1]\n",
    "\n",
    "poly_reg =PolynomialFeatures(degree=2) #三次多项式\n",
    "X_ploy =poly_reg.fit_transform(x[:, np.newaxis])\n",
    "lin_reg_1=linear_model.LinearRegression()\n",
    "lin_reg_1.fit(X_ploy,y)\n",
    "predict_y =  lin_reg_1.predict(X_ploy)\n",
    "\n",
    "print(\"coefficients\", lin_reg_1.coef_)\n",
    "print(\"intercept\", lin_reg_1.intercept_)\n"
   ]
  },
  {
   "cell_type": "code",
   "execution_count": 8,
   "id": "13a7ac0d",
   "metadata": {},
   "outputs": [
    {
     "name": "stdout",
     "output_type": "stream",
     "text": [
      "coefficients [0.         0.00265536 0.26358378]\n",
      "intercept -0.035593152\n"
     ]
    }
   ],
   "source": [
    "x = dpre_052.values[:,0]\n",
    "y = dpre_052.values[:,1]\n",
    "\n",
    "poly_reg =PolynomialFeatures(degree=2) #三次多项式\n",
    "X_ploy =poly_reg.fit_transform(x[:, np.newaxis])\n",
    "lin_reg_05=linear_model.LinearRegression()\n",
    "lin_reg_05.fit(X_ploy,y)\n",
    "predict_y =  lin_reg_05.predict(X_ploy)\n",
    "\n",
    "print(\"coefficients\", lin_reg_05.coef_)\n",
    "print(\"intercept\", lin_reg_05.intercept_)"
   ]
  },
  {
   "cell_type": "code",
   "execution_count": 9,
   "id": "db35f7e9",
   "metadata": {},
   "outputs": [
    {
     "name": "stdout",
     "output_type": "stream",
     "text": [
      "coefficients [ 0.         -0.00066844  0.26251614]\n",
      "intercept -0.02718234\n"
     ]
    }
   ],
   "source": [
    "x = dpre_152.values[:,0]\n",
    "y = dpre_152.values[:,1]\n",
    "\n",
    "poly_reg =PolynomialFeatures(degree=2) #三次多项式\n",
    "X_ploy =poly_reg.fit_transform(x[:, np.newaxis])\n",
    "lin_reg_15=linear_model.LinearRegression()\n",
    "lin_reg_15.fit(X_ploy,y)\n",
    "predict_y =  lin_reg_15.predict(X_ploy)\n",
    "\n",
    "print(\"coefficients\", lin_reg_15.coef_)\n",
    "print(\"intercept\", lin_reg_15.intercept_)"
   ]
  },
  {
   "cell_type": "code",
   "execution_count": null,
   "id": "519339ae",
   "metadata": {},
   "outputs": [],
   "source": []
  },
  {
   "cell_type": "code",
   "execution_count": null,
   "id": "410f1167",
   "metadata": {},
   "outputs": [],
   "source": []
  },
  {
   "cell_type": "code",
   "execution_count": 10,
   "id": "a1690044",
   "metadata": {},
   "outputs": [],
   "source": [
    "#read data\n",
    "df_xweidd1 = pd.read_csv('./data/EX1_xweight%d' %(10*sigma1))\n",
    "df_xweidd05 = pd.read_csv('./data/EX1_xweight%d' %(10*sigma05))\n",
    "df_xweidd15 = pd.read_csv('./data/EX1_xweight%d' %(10*sigma15))\n",
    "\n",
    "xweidd1 = df_xweidd1.values\n",
    "xdrift1 = xweidd1[0,:]\n",
    "xdiff1 = xweidd1[1,:]\n",
    "\n",
    "xweidd05 = df_xweidd05.values\n",
    "xdrift05 = xweidd05[0,:]\n",
    "xdiff05 = xweidd05[1,:]\n",
    "\n",
    "xweidd15 = df_xweidd15.values\n",
    "xdrift15 = xweidd15[0,:]\n",
    "xdiff15 = xweidd15[1,:]"
   ]
  },
  {
   "cell_type": "code",
   "execution_count": 11,
   "id": "45d06811",
   "metadata": {},
   "outputs": [],
   "source": [
    "XT = 4\n",
    "def GeneratingData(T, dt, n_samples):\n",
    "    X0 = np.random.uniform(-XT,XT,1)\n",
    "    X0 = X0.repeat(n_samples)\n",
    "    \n",
    "    t = np.arange(0, T+dt, dt)\n",
    "    NT = len(t)\n",
    "    x0 = X0[:]\n",
    "    N = len(x0)\n",
    "    xNN = np.zeros((NT, N))\n",
    "    xNN[0, :] = x0.squeeze()\n",
    "    \n",
    "    xNN05 = np.zeros((NT, N))\n",
    "    xNN05[0, :] = x0.squeeze()\n",
    "    \n",
    "    xNN15 = np.zeros((NT, N))\n",
    "    xNN15[0, :] = x0.squeeze()\n",
    "    \n",
    "    for i in range(NT-1):\n",
    "        UUt = dt**(1/2) * np.random.randn(N)\n",
    "        VVt = dt**(1/2) * np.random.randn(N)\n",
    "        \n",
    "        bas0 = np.ones(xNN[i, :].shape)\n",
    "        bas1 = xNN[i, :]\n",
    "        bas2 = lin_reg_1.intercept_*bas0+lin_reg_1.coef_[1]*xNN[i, :]+lin_reg_1.coef_[2]*xNN[i,:]**2\n",
    "        bas3 = bas1**2\n",
    "        bas4 = bas1*bas2\n",
    "        bas5 = bas2**2\n",
    "        basfuc = np.stack((bas0,bas1,bas2,bas3,bas4,bas5),0)\n",
    "        xNNdri = np.zeros(bas1.shape)\n",
    "        xNNdif = np.zeros(bas1.shape)\n",
    "        for ii in range(6):\n",
    "            xNNdri += xdrift1[ii]*basfuc[ii]\n",
    "            xNNdif += xdiff1[ii]*basfuc[ii]\n",
    "        xNN[i+1, :] = xNN[i, :] + xNNdri*dt + xNNdif*UUt\n",
    "        \n",
    "        bas0 = np.ones(xNN05[i, :].shape)\n",
    "        bas1 = xNN05[i, :]\n",
    "        bas2 = lin_reg_05.intercept_*bas0+lin_reg_05.coef_[1]*xNN05[i, :]+lin_reg_05.coef_[2]*xNN05[i,:]**2\n",
    "        bas3 = bas1**2\n",
    "        bas4 = bas1*bas2\n",
    "        bas5 = bas2**2\n",
    "        basfuc = np.stack((bas0,bas1,bas2,bas3,bas4,bas5),0)\n",
    "        xNNdri = np.zeros(bas1.shape)\n",
    "        xNNdif = np.zeros(bas1.shape)\n",
    "        for ii in range(6):\n",
    "            xNNdri += xdrift05[ii]*basfuc[ii]\n",
    "            xNNdif += xdiff05[ii]*basfuc[ii]\n",
    "        xNN05[i+1, :] = xNN05[i, :] + xNNdri*dt + xNNdif*UUt\n",
    "        \n",
    "        bas0 = np.ones(xNN15[i, :].shape)\n",
    "        bas1 = xNN15[i, :]\n",
    "        bas2 = lin_reg_15.intercept_*bas0+lin_reg_15.coef_[1]*xNN15[i, :]+lin_reg_15.coef_[2]*xNN15[i,:]**2\n",
    "        bas3 = bas1**2\n",
    "        bas4 = bas1*bas2\n",
    "        bas5 = bas2**2\n",
    "        basfuc = np.stack((bas0,bas1,bas2,bas3,bas4,bas5),0)\n",
    "        xNNdri = np.zeros(bas1.shape)\n",
    "        xNNdif = np.zeros(bas1.shape)\n",
    "        for ii in range(6):\n",
    "            xNNdri += xdrift15[ii]*basfuc[ii]\n",
    "            xNNdif += xdiff15[ii]*basfuc[ii]\n",
    "        xNN15[i+1, :] = xNN15[i, :] + xNNdri*dt + xNNdif*UUt\n",
    "    \n",
    "    return xNN05, xNN, xNN15"
   ]
  },
  {
   "cell_type": "code",
   "execution_count": 12,
   "id": "1e8b3882",
   "metadata": {},
   "outputs": [],
   "source": [
    "T = 1\n",
    "dt = 0.001\n",
    "n_samples = 1000\n",
    "xNN05, xNN, xNN15 = GeneratingData(T, dt, n_samples)\n",
    "t = np.arange((T+dt)/dt)"
   ]
  },
  {
   "cell_type": "code",
   "execution_count": 13,
   "id": "67b58f37",
   "metadata": {},
   "outputs": [
    {
     "data": {
      "text/plain": [
       "Text(0.5, 0, 'x')"
      ]
     },
     "execution_count": 13,
     "metadata": {},
     "output_type": "execute_result"
    },
    {
     "data": {
      "image/png": "[encoded data removed]",
      "text/plain": [
       "<Figure size 432x288 with 1 Axes>"
      ]
     },
     "metadata": {
      "needs_background": "light"
     },
     "output_type": "display_data"
    }
   ],
   "source": [
    "sns.kdeplot(xNN05[100,:],color=\"dodgerblue\",linestyle='-.',label='$\\sigma_1 = 0.5$')\n",
    "sns.kdeplot(xNN[100,:],color=\"red\",linestyle='--',label='$\\sigma_1 = 1$')\n",
    "sns.kdeplot(xNN15[100,:],color=\"gold\",linestyle='-',label='$\\sigma_1 = 1.5$')\n",
    "plt.legend()\n",
    "plt.xlabel('x')\n",
    "\n",
    "#plt.savefig(\"image/Ex1_sigma.pdf\", dpi=900,format='pdf')"
   ]
  },
  {
   "cell_type": "code",
   "execution_count": null,
   "id": "continuous-convenience",
   "metadata": {},
   "outputs": [],
   "source": []
  }
 ],
 "metadata": {
  "kernelspec": {
   "display_name": "Python 3",
   "language": "python",
   "name": "python3"
  },
  "language_info": {
   "codemirror_mode": {
    "name": "ipython",
    "version": 3
   },
   "file_extension": ".py",
   "mimetype": "text/x-python",
   "name": "python",
   "nbconvert_exporter": "python",
   "pygments_lexer": "ipython3",
   "version": "3.8.8"
  }
 },
 "nbformat": 4,
 "nbformat_minor": 5
}
